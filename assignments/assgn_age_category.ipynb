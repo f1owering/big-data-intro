{
 "cells": [
  {
   "cell_type": "markdown",
   "id": "0ed80085-80c0-41aa-a13d-f9cb923d4e8c",
   "metadata": {},
   "source": [
    "## assgn : Age_category"
   ]
  },
  {
   "cell_type": "code",
   "execution_count": 5,
   "id": "6e0c8c88-d2d3-480c-8a4d-811d71de1c73",
   "metadata": {},
   "outputs": [],
   "source": [
    "# SparkSession 설정\n",
    "from pyspark.sql import SparkSession\n",
    "\n",
    "spark = SparkSession.builder.master('local').appName('udf').getOrCreate()"
   ]
  },
  {
   "cell_type": "code",
   "execution_count": 18,
   "id": "e21c99a0-f5c7-498d-bb38-9a1abe592ad2",
   "metadata": {},
   "outputs": [],
   "source": [
    "# 샘플 데이터: 이름 및 나이\n",
    "Age_category = [\n",
    "    ('김', 25),\n",
    "    ('이', 40),\n",
    "    ('박', 35),\n",
    "    ('최', 65),\n",
    "    ('조', 20),\n",
    "    ('권', 50),\n",
    "    ('정', 38)\n",
    "]"
   ]
  },
  {
   "cell_type": "code",
   "execution_count": 19,
   "id": "8d0a5f3b-911d-406d-8ea9-c95e9566ff52",
   "metadata": {},
   "outputs": [],
   "source": [
    "# 스키마 정의\n",
    "schema = ['name', 'age']"
   ]
  },
  {
   "cell_type": "code",
   "execution_count": 21,
   "id": "a629903d-24fa-43cd-9276-d4a4a4f0e834",
   "metadata": {},
   "outputs": [],
   "source": [
    "# 데이터프레임 생성\n",
    "df = spark.createDataFrame(data = Age_category, schema = schema)"
   ]
  },
  {
   "cell_type": "code",
   "execution_count": 22,
   "id": "a300a3f1-9dda-498b-a294-1c7c9a45076d",
   "metadata": {},
   "outputs": [
    {
     "name": "stdout",
     "output_type": "stream",
     "text": [
      "+----+---+\n",
      "|name|age|\n",
      "+----+---+\n",
      "|  김| 25|\n",
      "|  이| 40|\n",
      "|  박| 35|\n",
      "|  최| 65|\n",
      "|  조| 20|\n",
      "|  권| 50|\n",
      "|  정| 38|\n",
      "+----+---+\n",
      "\n"
     ]
    }
   ],
   "source": [
    "# 데이터프레임 출력\n",
    "df.show()"
   ]
  },
  {
   "cell_type": "code",
   "execution_count": 23,
   "id": "18d8a6d1-edcc-4ac3-be4b-e367ee70975b",
   "metadata": {},
   "outputs": [
    {
     "name": "stdout",
     "output_type": "stream",
     "text": [
      "root\n",
      " |-- name: string (nullable = true)\n",
      " |-- age: long (nullable = true)\n",
      "\n"
     ]
    }
   ],
   "source": [
    "# 데이터프레임 스키마 출력\n",
    "df.printSchema()"
   ]
  },
  {
   "cell_type": "code",
   "execution_count": 25,
   "id": "da8f5111-61a5-4915-9885-bd48bc0b2379",
   "metadata": {},
   "outputs": [],
   "source": [
    "# Temporary View 생성\n",
    "df.createOrReplaceTempView('Age_category')"
   ]
  },
  {
   "cell_type": "code",
   "execution_count": 34,
   "id": "c1f33bd3-bffb-4c12-8787-dee4d04d2187",
   "metadata": {},
   "outputs": [],
   "source": [
    "# UDF : 나이 별 분류 함수\n",
    "def age_category(age) :\n",
    "    if age < 35 :\n",
    "        return 'young'\n",
    "    elif 35 <= age <= 59 :\n",
    "        return 'adult'\n",
    "    elif age >= 60 :\n",
    "        return 'senior'"
   ]
  },
  {
   "cell_type": "code",
   "execution_count": 35,
   "id": "b64dbdda-3f7d-4958-b101-2cf294869b33",
   "metadata": {},
   "outputs": [
    {
     "data": {
      "text/plain": [
       "<function __main__.age_category(age)>"
      ]
     },
     "execution_count": 35,
     "metadata": {},
     "output_type": "execute_result"
    }
   ],
   "source": [
    "# UDF 등록\n",
    "spark.udf.register('age_category', age_category)"
   ]
  },
  {
   "cell_type": "code",
   "execution_count": 40,
   "id": "2995f068-2076-4253-98db-5deeac0d8f9e",
   "metadata": {},
   "outputs": [
    {
     "name": "stdout",
     "output_type": "stream",
     "text": [
      "+----+------------+\n",
      "|name|age_category|\n",
      "+----+------------+\n",
      "|  김|       young|\n",
      "|  이|       adult|\n",
      "|  박|       adult|\n",
      "|  최|      senior|\n",
      "|  조|       young|\n",
      "|  권|       adult|\n",
      "|  정|       adult|\n",
      "+----+------------+\n",
      "\n"
     ]
    }
   ],
   "source": [
    "# SQL문 처리\n",
    "spark.sql(\n",
    "    \"SELECT name, age_category(age) AS age_category FROM Age_category\").show()"
   ]
  },
  {
   "cell_type": "code",
   "execution_count": null,
   "id": "c8070396-c87c-4d57-975e-baded4f67e09",
   "metadata": {},
   "outputs": [],
   "source": []
  }
 ],
 "metadata": {
  "kernelspec": {
   "display_name": "Python 3 (ipykernel)",
   "language": "python",
   "name": "python3"
  },
  "language_info": {
   "codemirror_mode": {
    "name": "ipython",
    "version": 3
   },
   "file_extension": ".py",
   "mimetype": "text/x-python",
   "name": "python",
   "nbconvert_exporter": "python",
   "pygments_lexer": "ipython3",
   "version": "3.9.13"
  }
 },
 "nbformat": 4,
 "nbformat_minor": 5
}
